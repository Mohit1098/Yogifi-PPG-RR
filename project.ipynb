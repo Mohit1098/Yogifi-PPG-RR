{
 "cells": [
  {
   "cell_type": "code",
   "execution_count": 1,
   "metadata": {},
   "outputs": [],
   "source": [
    "import torch\n",
    "import torchvision\n",
    "# import pycuda.driver as cuda\n",
    "# cuda.init()\n",
    "import torchvision.transforms as transforms\n",
    "import matplotlib.pyplot as plt\n",
    "import numpy as np\n",
    "import torch.nn as nn\n",
    "import torch.nn.functional as F\n",
    "import torch.optim as optim\n",
    "from sklearn.model_selection import train_test_split\n",
    "import scipy.io\n",
    "import os\n",
    "import gc"
   ]
  },
  {
   "cell_type": "code",
   "execution_count": 2,
   "metadata": {},
   "outputs": [],
   "source": [
    "#DIlated Residual Block, refer photo\n",
    "class DRB(nn.Module):\n",
    "    def __init__(self,inchannels,negative_slope=0.01):\n",
    "        super(DRB, self).__init__()\n",
    "        \n",
    "        self.conv111=nn.Conv1d(in_channels=inchannels,out_channels=1,kernel_size=1,stride=1)\n",
    "        self.conv111_bn=nn.BatchNorm1d(1)\n",
    "        self.conv112=nn.Conv1d(in_channels=inchannels,out_channels=1,kernel_size=1,stride=1)\n",
    "        self.conv112_bn=nn.BatchNorm1d(1)\n",
    "        self.conv113=nn.Conv1d(in_channels=inchannels,out_channels=1,kernel_size=1,stride=1)\n",
    "        self.conv113_bn=nn.BatchNorm1d(1)\n",
    "        self.conv114=nn.Conv1d(in_channels=inchannels,out_channels=1,kernel_size=1,stride=1)\n",
    "        self.conv114_bn=nn.BatchNorm1d(1)\n",
    "        \n",
    "        self.relu1=nn.LeakyReLU(negative_slope,0)\n",
    "        self.conv131=nn.Conv1d(in_channels=1,out_channels=1,kernel_size=3,stride=1,padding=2,dilation=2)\n",
    "        self.conv131_bn=nn.BatchNorm1d(1)\n",
    "        self.relu2=nn.LeakyReLU(negative_slope,0)\n",
    "        self.conv132=nn.Conv1d(in_channels=1,out_channels=1,kernel_size=3,stride=1,padding=4,dilation=4)\n",
    "        self.conv132_bn=nn.BatchNorm1d(1)\n",
    "        self.relu3=nn.LeakyReLU(negative_slope,0)\n",
    "        self.conv133=nn.Conv1d(in_channels=1,out_channels=1,kernel_size=3,stride=1,padding=8,dilation=8)\n",
    "        self.conv133_bn=nn.BatchNorm1d(1)\n",
    "        \n",
    "        self.conv11p=nn.Conv1d(in_channels=4,out_channels=1,kernel_size=1,stride=1)\n",
    "            \n",
    "\n",
    "    def forward(self, x):\n",
    "        x1=self.conv111_bn(self.conv111(x))\n",
    "        \n",
    "        x2=self.relu1(self.conv112_bn(self.conv112(x)))\n",
    "        x2=self.conv131_bn(self.conv131(x2))\n",
    "        \n",
    "        x3=self.relu1(self.conv113_bn(self.conv113(x)))\n",
    "        x3=self.conv132_bn(self.conv132(x3))\n",
    "        \n",
    "        x4=self.relu1(self.conv114_bn(self.conv114(x)))\n",
    "        x4=self.conv133_bn(self.conv133(x4))\n",
    "        \n",
    "        x5=torch.cat((x1,x2,x3,x4),1)\n",
    "        y=self.conv11p(x5)\n",
    "        \n",
    "        return x+y\n"
   ]
  },
  {
   "cell_type": "code",
   "execution_count": 3,
   "metadata": {},
   "outputs": [],
   "source": [
    "#whole neural network , refer photo\n",
    "class Net(nn.Module):\n",
    "    def __init__(self,first_layer_filters=32,negative_slope=0.01):\n",
    "        super(Net, self).__init__()\n",
    "        \n",
    "        self.in_channels1=1\n",
    "        self.out_channels1=first_layer_filters\n",
    "        self.Drb11=DRB(self.in_channels1)\n",
    "        self.conv11=nn.Conv1d(in_channels=self.in_channels1,out_channels=self.out_channels1,kernel_size=4,stride=2,padding=1)\n",
    "        self.conv11_bn=nn.BatchNorm1d(self.out_channels1)  \n",
    "        self.relu11=nn.LeakyReLU(negative_slope,0)\n",
    "        \n",
    "        self.in_channels2=self.out_channels1\n",
    "        self.out_channels2=min(self.out_channels1*2,512)\n",
    "        self.Drb12=DRB(self.in_channels2)\n",
    "        self.conv12=nn.Conv1d(in_channels=self.in_channels2,out_channels=self.out_channels2,kernel_size=4,stride=2,padding=1)\n",
    "        self.conv12_bn=nn.BatchNorm1d(self.out_channels2)\n",
    "        self.relu12=nn.LeakyReLU(negative_slope,0)\n",
    "        \n",
    "        self.in_channels3=self.out_channels2\n",
    "        self.out_channels3=min(self.out_channels2*2,512)\n",
    "        self.Drb13=DRB(self.in_channels3)\n",
    "        self.conv13=nn.Conv1d(in_channels=self.in_channels3,out_channels=self.out_channels3,kernel_size=4,stride=2,padding=1)\n",
    "        self.conv13_bn=nn.BatchNorm1d(self.out_channels3)\n",
    "        self.relu13=nn.LeakyReLU(negative_slope,0)\n",
    "        \n",
    "        self.in_channels4=self.out_channels3\n",
    "        self.out_channels4=min(self.out_channels3*2,512)\n",
    "        self.Drb14=DRB(self.in_channels4)\n",
    "        self.conv14=nn.Conv1d(in_channels=self.in_channels4,out_channels=self.out_channels4,kernel_size=4,stride=2,padding=1)\n",
    "        self.conv14_bn=nn.BatchNorm1d(self.out_channels4)\n",
    "        self.relu14=nn.LeakyReLU(negative_slope,0)\n",
    "        \n",
    "        self.in_channels5=self.out_channels4\n",
    "        self.out_channels5=min(self.out_channels4*2,512)\n",
    "        self.Drb15=DRB(self.in_channels5)\n",
    "        self.conv15=nn.Conv1d(in_channels=self.in_channels5,out_channels=self.out_channels5,kernel_size=4,stride=2,padding=1)\n",
    "        self.conv15_bn=nn.BatchNorm1d(self.out_channels5)\n",
    "        self.relu15=nn.LeakyReLU(negative_slope,0)\n",
    "        \n",
    "        self.in_channels6=self.out_channels5\n",
    "        self.out_channels6=min(self.out_channels5*2,512)\n",
    "        self.Drb16=DRB(self.in_channels6)\n",
    "        self.conv16=nn.Conv1d(in_channels=self.in_channels6,out_channels=self.out_channels6,kernel_size=4,stride=2,padding=1)\n",
    "        self.conv16_bn=nn.BatchNorm1d(self.out_channels6)\n",
    "        self.relu16=nn.LeakyReLU(negative_slope,0)\n",
    "        \n",
    "        self.in_channels7=self.out_channels6\n",
    "        self.out_channels7=min(self.out_channels6*2,512)\n",
    "        self.Drb17=DRB(self.in_channels7)\n",
    "        self.conv17=nn.Conv1d(in_channels=self.in_channels7,out_channels=self.out_channels7,kernel_size=4,stride=2,padding=1)\n",
    "        self.conv17_bn=nn.BatchNorm1d(self.out_channels7)\n",
    "        self.relu17=nn.LeakyReLU(negative_slope,0)\n",
    "        \n",
    "        self.in_channels8=self.out_channels7\n",
    "        self.Drb21=DRB(self.in_channels8)\n",
    "        self.deconv21=nn.ConvTranspose1d(in_channels=self.in_channels8,out_channels=self.in_channels7,kernel_size=4,stride=2,padding=1)\n",
    "        self.conv21_bn=nn.BatchNorm1d(self.in_channels7)\n",
    "        self.relu21=nn.LeakyReLU(negative_slope,0)\n",
    "        \n",
    "        self.Drb22=DRB(self.in_channels7*2)\n",
    "        self.deconv22=nn.ConvTranspose1d(in_channels=self.in_channels7*2,out_channels=self.in_channels6,kernel_size=4,stride=2,padding=1)\n",
    "        self.conv22_bn=nn.BatchNorm1d(self.in_channels6)\n",
    "        self.relu22=nn.LeakyReLU(negative_slope,0)\n",
    "        \n",
    "        self.Drb23=DRB(self.in_channels6*2)\n",
    "        self.deconv23=nn.ConvTranspose1d(in_channels=self.in_channels6*2,out_channels=self.in_channels5,kernel_size=4,stride=2,padding=1)\n",
    "        self.conv23_bn=nn.BatchNorm1d(self.in_channels5)\n",
    "        self.relu23=nn.LeakyReLU(negative_slope,0)\n",
    "        \n",
    "        self.Drb24=DRB(self.in_channels5*2)\n",
    "        self.deconv24=nn.ConvTranspose1d(in_channels=self.in_channels5*2,out_channels=self.in_channels4,kernel_size=4,stride=2,padding=1)\n",
    "        self.conv24_bn=nn.BatchNorm1d(self.in_channels4)\n",
    "        self.relu24=nn.LeakyReLU(negative_slope,0)\n",
    "        \n",
    "        self.Drb25=DRB(self.in_channels4*2)\n",
    "        self.deconv25=nn.ConvTranspose1d(in_channels=self.in_channels4*2,out_channels=self.in_channels3,kernel_size=4,stride=2,padding=1)\n",
    "        self.conv25_bn=nn.BatchNorm1d(self.in_channels3)\n",
    "        self.relu25=nn.LeakyReLU(negative_slope,0)\n",
    "        \n",
    "        self.Drb26=DRB(self.in_channels3*2)\n",
    "        self.deconv26=nn.ConvTranspose1d(in_channels=self.in_channels3*2,out_channels=self.in_channels2,kernel_size=4,stride=2,padding=1)\n",
    "        self.conv26_bn=nn.BatchNorm1d(self.in_channels2)\n",
    "        self.relu26=nn.LeakyReLU(negative_slope,0)\n",
    "        \n",
    "        self.Drb27=DRB(self.in_channels2*2)\n",
    "        self.deconv27=nn.ConvTranspose1d(in_channels=self.in_channels2*2,out_channels=self.in_channels1,kernel_size=4,stride=2,padding=1)\n",
    "        self.conv27_bn=nn.BatchNorm1d(self.in_channels1)\n",
    "        self.relu27=nn.LeakyReLU(negative_slope,0)\n",
    "        \n",
    "        self.Drb28=DRB(self.in_channels1*2)\n",
    "        self.conv28=nn.Conv1d(in_channels=self.in_channels1*2,out_channels=self.in_channels1,kernel_size=1,stride=1,padding=0)\n",
    "        \n",
    "\n",
    "    def forward(self, x):\n",
    "        \n",
    "        x1=self.relu11(self.conv11_bn(self.conv11(self.Drb11(x))))\n",
    "           \n",
    "        x2=self.relu12(self.conv12_bn(self.conv12(self.Drb12(x1))))\n",
    "        \n",
    "        x3=self.relu13(self.conv13_bn(self.conv13(self.Drb13(x2))))\n",
    "        \n",
    "        x4=self.relu14(self.conv14_bn(self.conv14(self.Drb14(x3))))\n",
    "        \n",
    "        x5=self.relu15(self.conv15_bn(self.conv15(self.Drb15(x4))))\n",
    "        \n",
    "        x6=self.relu16(self.conv16_bn(self.conv16(self.Drb16(x5))))\n",
    "        \n",
    "        x7=self.relu17(self.conv17_bn(self.conv17(self.Drb17(x6))))\n",
    "        \n",
    "        x8=self.relu21(self.conv21_bn(self.deconv21(self.Drb21(x7))))\n",
    "        \n",
    "        x8=torch.cat((x8,x6),1)\n",
    "        x9=self.relu22(self.conv22_bn(self.deconv22(self.Drb22(x8))))\n",
    "        \n",
    "        x9=torch.cat((x9,x5),1)\n",
    "        x10=self.relu23(self.conv23_bn(self.deconv23(self.Drb23(x9)))) \n",
    "        \n",
    "        x10=torch.cat((x10,x4),1)\n",
    "        x11=self.relu24(self.conv24_bn(self.deconv24(self.Drb24(x10)))) \n",
    "        \n",
    "        x11=torch.cat((x11,x3),1)\n",
    "        x12=self.relu25(self.conv25_bn(self.deconv25(self.Drb25(x11)))) \n",
    "        \n",
    "        x12=torch.cat((x12,x2),1)\n",
    "        x13=self.relu26(self.conv26_bn(self.deconv26(self.Drb26(x12)))) \n",
    "        \n",
    "        x13=torch.cat((x13,x1),1)\n",
    "        x14=self.relu27(self.conv27_bn(self.deconv27(self.Drb27(x13)))) \n",
    "        \n",
    "        x14=torch.cat((x14,x),1)\n",
    "        x15=self.conv28(self.Drb28(x14))\n",
    "        \n",
    "        return x15"
   ]
  },
  {
   "cell_type": "code",
   "execution_count": 4,
   "metadata": {},
   "outputs": [],
   "source": [
    "net=Net().double().cuda()"
   ]
  },
  {
   "cell_type": "code",
   "execution_count": 5,
   "metadata": {},
   "outputs": [],
   "source": [
    "x_data=np.empty((42,122881))\n",
    "y_data=np.empty((42,122881))"
   ]
  },
  {
   "cell_type": "code",
   "execution_count": 6,
   "metadata": {},
   "outputs": [
    {
     "name": "stdout",
     "output_type": "stream",
     "text": [
      "x_train1.mat\n",
      "x_train10.mat\n",
      "x_train11.mat\n",
      "x_train12.mat\n",
      "x_train13.mat\n",
      "x_train14.mat\n",
      "x_train15.mat\n",
      "x_train16.mat\n",
      "x_train17.mat\n",
      "x_train18.mat\n",
      "x_train19.mat\n",
      "x_train2.mat\n",
      "x_train20.mat\n",
      "x_train21.mat\n",
      "x_train22.mat\n",
      "x_train23.mat\n",
      "x_train24.mat\n",
      "x_train25.mat\n",
      "x_train26.mat\n",
      "x_train27.mat\n",
      "x_train28.mat\n",
      "x_train29.mat\n",
      "x_train3.mat\n",
      "x_train30.mat\n",
      "x_train31.mat\n",
      "x_train32.mat\n",
      "x_train33.mat\n",
      "x_train34.mat\n",
      "x_train35.mat\n",
      "x_train36.mat\n",
      "x_train37.mat\n",
      "x_train38.mat\n",
      "x_train39.mat\n",
      "x_train4.mat\n",
      "x_train40.mat\n",
      "x_train41.mat\n",
      "x_train42.mat\n",
      "x_train5.mat\n",
      "x_train6.mat\n",
      "x_train7.mat\n",
      "x_train8.mat\n",
      "x_train9.mat\n"
     ]
    }
   ],
   "source": [
    "path='train_data/x_train/'\n",
    "j=0\n",
    "for file in sorted(os.listdir('train_data/x_train')):\n",
    "    x=scipy.io.loadmat(path+file)\n",
    "    print(file)\n",
    "    x=x['zx'].astype('double')\n",
    "    x=x.reshape(-1)\n",
    "    x_data[j]=x\n",
    "    j+=1"
   ]
  },
  {
   "cell_type": "code",
   "execution_count": 7,
   "metadata": {},
   "outputs": [
    {
     "name": "stdout",
     "output_type": "stream",
     "text": [
      "y_train1.mat\n",
      "y_train10.mat\n",
      "y_train11.mat\n",
      "y_train12.mat\n",
      "y_train13.mat\n",
      "y_train14.mat\n",
      "y_train15.mat\n",
      "y_train16.mat\n",
      "y_train17.mat\n",
      "y_train18.mat\n",
      "y_train19.mat\n",
      "y_train2.mat\n",
      "y_train20.mat\n",
      "y_train21.mat\n",
      "y_train22.mat\n",
      "y_train23.mat\n",
      "y_train24.mat\n",
      "y_train25.mat\n",
      "y_train26.mat\n",
      "y_train27.mat\n",
      "y_train28.mat\n",
      "y_train29.mat\n",
      "y_train3.mat\n",
      "y_train30.mat\n",
      "y_train31.mat\n",
      "y_train32.mat\n",
      "y_train33.mat\n",
      "y_train34.mat\n",
      "y_train35.mat\n",
      "y_train36.mat\n",
      "y_train37.mat\n",
      "y_train38.mat\n",
      "y_train39.mat\n",
      "y_train4.mat\n",
      "y_train40.mat\n",
      "y_train41.mat\n",
      "y_train42.mat\n",
      "y_train5.mat\n",
      "y_train6.mat\n",
      "y_train7.mat\n",
      "y_train8.mat\n",
      "y_train9.mat\n"
     ]
    }
   ],
   "source": [
    "path='train_data/y_train/'\n",
    "j=0\n",
    "for file in sorted(os.listdir('train_data/y_train')):\n",
    "    x=scipy.io.loadmat(path+file)\n",
    "    print(file)\n",
    "    x=x['zy'].astype('double')\n",
    "    x=x.reshape(-1)\n",
    "    y_data[j]=x\n",
    "    j+=1"
   ]
  },
  {
   "cell_type": "code",
   "execution_count": 8,
   "metadata": {},
   "outputs": [],
   "source": [
    "for i in range(42):\n",
    "    x_data[i]=(x_data[i]-min(x_data[i]))/(max(x_data[i])-min(x_data[i]))\n",
    "    y_data[i]=(y_data[i]-min(y_data[i]))/(max(y_data[i])-min(y_data[i]))"
   ]
  },
  {
   "cell_type": "code",
   "execution_count": 9,
   "metadata": {},
   "outputs": [],
   "source": [
    "x_data_div=np.empty((2520,1,2048),dtype='double')\n",
    "y_data_div=np.empty((2520,1,2048),dtype='double')"
   ]
  },
  {
   "cell_type": "code",
   "execution_count": 10,
   "metadata": {},
   "outputs": [],
   "source": [
    "for j in range(42):\n",
    "    for i in range(60):\n",
    "        x_data_div[i+j*60]=x_data[j][i*2048:(i+1)*2048]\n",
    "        y_data_div[i+j*60]=y_data[j][i*2048:(i+1)*2048]"
   ]
  },
  {
   "cell_type": "code",
   "execution_count": 11,
   "metadata": {},
   "outputs": [],
   "source": [
    "x_train,x_test,y_train,y_test=train_test_split(x_data_div,y_data_div,test_size=0.2,shuffle=True)"
   ]
  },
  {
   "cell_type": "code",
   "execution_count": 12,
   "metadata": {},
   "outputs": [],
   "source": [
    "np.save('x_train',x_train)\n",
    "np.save('y_train',y_train)\n",
    "np.save('x_test',x_test)\n",
    "np.save('y_test',y_test)"
   ]
  },
  {
   "cell_type": "code",
   "execution_count": 5,
   "metadata": {},
   "outputs": [],
   "source": [
    "x_train=np.load(\"x_train.npy\")\n",
    "x_test=np.load(\"x_test.npy\")\n",
    "y_train=np.load(\"y_train.npy\")\n",
    "y_test=np.load(\"y_test.npy\")"
   ]
  },
  {
   "cell_type": "code",
   "execution_count": 19,
   "metadata": {},
   "outputs": [],
   "source": [
    "x_train1=torch.from_numpy(x_train).double().cuda()\n",
    "y_train1=torch.from_numpy(y_train).double().cuda()"
   ]
  },
  {
   "cell_type": "code",
   "execution_count": 28,
   "metadata": {},
   "outputs": [],
   "source": [
    "criterion=nn.SmoothL1Loss(size_average=None, reduce=None, reduction='mean')\n",
    "optimizer = optim.SGD(net.parameters(), lr=0.1,momentum=0.7)"
   ]
  },
  {
   "cell_type": "code",
   "execution_count": 29,
   "metadata": {},
   "outputs": [
    {
     "name": "stdout",
     "output_type": "stream",
     "text": [
      "tensor(0.0766, device='cuda:0', dtype=torch.float64,\n",
      "       grad_fn=<SmoothL1LossBackward>)\n",
      "0 0\n",
      "tensor(0.0764, device='cuda:0', dtype=torch.float64,\n",
      "       grad_fn=<SmoothL1LossBackward>)\n",
      "0 1\n",
      "tensor(0.0765, device='cuda:0', dtype=torch.float64,\n",
      "       grad_fn=<SmoothL1LossBackward>)\n",
      "0 2\n",
      "tensor(0.0770, device='cuda:0', dtype=torch.float64,\n",
      "       grad_fn=<SmoothL1LossBackward>)\n",
      "0 3\n",
      "tensor(0.0778, device='cuda:0', dtype=torch.float64,\n",
      "       grad_fn=<SmoothL1LossBackward>)\n",
      "0 4\n",
      "tensor(0.0766, device='cuda:0', dtype=torch.float64,\n",
      "       grad_fn=<SmoothL1LossBackward>)\n",
      "0 5\n",
      "tensor(0.0758, device='cuda:0', dtype=torch.float64,\n",
      "       grad_fn=<SmoothL1LossBackward>)\n",
      "0 6\n",
      "tensor(0.0753, device='cuda:0', dtype=torch.float64,\n",
      "       grad_fn=<SmoothL1LossBackward>)\n",
      "0 7\n",
      "331702272\n",
      "tensor(0.0764, device='cuda:0', dtype=torch.float64,\n",
      "       grad_fn=<SmoothL1LossBackward>)\n",
      "1 0\n",
      "tensor(0.0763, device='cuda:0', dtype=torch.float64,\n",
      "       grad_fn=<SmoothL1LossBackward>)\n",
      "1 1\n",
      "tensor(0.0763, device='cuda:0', dtype=torch.float64,\n",
      "       grad_fn=<SmoothL1LossBackward>)\n",
      "1 2\n",
      "tensor(0.0769, device='cuda:0', dtype=torch.float64,\n",
      "       grad_fn=<SmoothL1LossBackward>)\n",
      "1 3\n",
      "tensor(0.0777, device='cuda:0', dtype=torch.float64,\n",
      "       grad_fn=<SmoothL1LossBackward>)\n",
      "1 4\n",
      "tensor(0.0766, device='cuda:0', dtype=torch.float64,\n",
      "       grad_fn=<SmoothL1LossBackward>)\n",
      "1 5\n",
      "tensor(0.0758, device='cuda:0', dtype=torch.float64,\n",
      "       grad_fn=<SmoothL1LossBackward>)\n",
      "1 6\n",
      "tensor(0.0752, device='cuda:0', dtype=torch.float64,\n",
      "       grad_fn=<SmoothL1LossBackward>)\n",
      "1 7\n",
      "331702272\n",
      "tensor(0.0764, device='cuda:0', dtype=torch.float64,\n",
      "       grad_fn=<SmoothL1LossBackward>)\n",
      "2 0\n",
      "tensor(0.0763, device='cuda:0', dtype=torch.float64,\n",
      "       grad_fn=<SmoothL1LossBackward>)\n",
      "2 1\n",
      "tensor(0.0763, device='cuda:0', dtype=torch.float64,\n",
      "       grad_fn=<SmoothL1LossBackward>)\n",
      "2 2\n",
      "tensor(0.0768, device='cuda:0', dtype=torch.float64,\n",
      "       grad_fn=<SmoothL1LossBackward>)\n",
      "2 3\n",
      "tensor(0.0777, device='cuda:0', dtype=torch.float64,\n",
      "       grad_fn=<SmoothL1LossBackward>)\n",
      "2 4\n",
      "tensor(0.0766, device='cuda:0', dtype=torch.float64,\n",
      "       grad_fn=<SmoothL1LossBackward>)\n",
      "2 5\n",
      "tensor(0.0757, device='cuda:0', dtype=torch.float64,\n",
      "       grad_fn=<SmoothL1LossBackward>)\n",
      "2 6\n",
      "tensor(0.0752, device='cuda:0', dtype=torch.float64,\n",
      "       grad_fn=<SmoothL1LossBackward>)\n",
      "2 7\n",
      "331702272\n",
      "tensor(0.0763, device='cuda:0', dtype=torch.float64,\n",
      "       grad_fn=<SmoothL1LossBackward>)\n",
      "3 0\n",
      "tensor(0.0762, device='cuda:0', dtype=torch.float64,\n",
      "       grad_fn=<SmoothL1LossBackward>)\n",
      "3 1\n",
      "tensor(0.0762, device='cuda:0', dtype=torch.float64,\n",
      "       grad_fn=<SmoothL1LossBackward>)\n",
      "3 2\n",
      "tensor(0.0768, device='cuda:0', dtype=torch.float64,\n",
      "       grad_fn=<SmoothL1LossBackward>)\n",
      "3 3\n",
      "tensor(0.0777, device='cuda:0', dtype=torch.float64,\n",
      "       grad_fn=<SmoothL1LossBackward>)\n",
      "3 4\n",
      "tensor(0.0765, device='cuda:0', dtype=torch.float64,\n",
      "       grad_fn=<SmoothL1LossBackward>)\n",
      "3 5\n",
      "tensor(0.0757, device='cuda:0', dtype=torch.float64,\n",
      "       grad_fn=<SmoothL1LossBackward>)\n",
      "3 6\n",
      "tensor(0.0752, device='cuda:0', dtype=torch.float64,\n",
      "       grad_fn=<SmoothL1LossBackward>)\n",
      "3 7\n",
      "331702272\n",
      "tensor(0.0763, device='cuda:0', dtype=torch.float64,\n",
      "       grad_fn=<SmoothL1LossBackward>)\n",
      "4 0\n",
      "tensor(0.0762, device='cuda:0', dtype=torch.float64,\n",
      "       grad_fn=<SmoothL1LossBackward>)\n",
      "4 1\n",
      "tensor(0.0762, device='cuda:0', dtype=torch.float64,\n",
      "       grad_fn=<SmoothL1LossBackward>)\n",
      "4 2\n",
      "tensor(0.0768, device='cuda:0', dtype=torch.float64,\n",
      "       grad_fn=<SmoothL1LossBackward>)\n",
      "4 3\n",
      "tensor(0.0777, device='cuda:0', dtype=torch.float64,\n",
      "       grad_fn=<SmoothL1LossBackward>)\n",
      "4 4\n",
      "tensor(0.0765, device='cuda:0', dtype=torch.float64,\n",
      "       grad_fn=<SmoothL1LossBackward>)\n",
      "4 5\n",
      "tensor(0.0757, device='cuda:0', dtype=torch.float64,\n",
      "       grad_fn=<SmoothL1LossBackward>)\n",
      "4 6\n",
      "tensor(0.0751, device='cuda:0', dtype=torch.float64,\n",
      "       grad_fn=<SmoothL1LossBackward>)\n",
      "4 7\n",
      "331702272\n",
      "tensor(0.0763, device='cuda:0', dtype=torch.float64,\n",
      "       grad_fn=<SmoothL1LossBackward>)\n",
      "5 0\n",
      "tensor(0.0762, device='cuda:0', dtype=torch.float64,\n",
      "       grad_fn=<SmoothL1LossBackward>)\n",
      "5 1\n",
      "tensor(0.0762, device='cuda:0', dtype=torch.float64,\n",
      "       grad_fn=<SmoothL1LossBackward>)\n",
      "5 2\n",
      "tensor(0.0768, device='cuda:0', dtype=torch.float64,\n",
      "       grad_fn=<SmoothL1LossBackward>)\n",
      "5 3\n",
      "tensor(0.0776, device='cuda:0', dtype=torch.float64,\n",
      "       grad_fn=<SmoothL1LossBackward>)\n",
      "5 4\n",
      "tensor(0.0765, device='cuda:0', dtype=torch.float64,\n",
      "       grad_fn=<SmoothL1LossBackward>)\n",
      "5 5\n"
     ]
    },
    {
     "ename": "KeyboardInterrupt",
     "evalue": "",
     "output_type": "error",
     "traceback": [
      "\u001b[0;31m---------------------------------------------------------------------------\u001b[0m",
      "\u001b[0;31mKeyboardInterrupt\u001b[0m                         Traceback (most recent call last)",
      "\u001b[0;32m<ipython-input-29-87e4cb46cb29>\u001b[0m in \u001b[0;36m<module>\u001b[0;34m\u001b[0m\n\u001b[1;32m      3\u001b[0m         \u001b[0moptimizer\u001b[0m\u001b[0;34m.\u001b[0m\u001b[0mzero_grad\u001b[0m\u001b[0;34m(\u001b[0m\u001b[0;34m)\u001b[0m\u001b[0;34m\u001b[0m\u001b[0m\n\u001b[1;32m      4\u001b[0m         \u001b[0moutputs\u001b[0m \u001b[0;34m=\u001b[0m \u001b[0mnet\u001b[0m\u001b[0;34m(\u001b[0m\u001b[0mx_train1\u001b[0m\u001b[0;34m[\u001b[0m\u001b[0mi\u001b[0m\u001b[0;34m*\u001b[0m\u001b[0;36m256\u001b[0m\u001b[0;34m:\u001b[0m\u001b[0mmin\u001b[0m\u001b[0;34m(\u001b[0m\u001b[0;36m2016\u001b[0m\u001b[0;34m,\u001b[0m\u001b[0;34m(\u001b[0m\u001b[0mi\u001b[0m\u001b[0;34m+\u001b[0m\u001b[0;36m1\u001b[0m\u001b[0;34m)\u001b[0m\u001b[0;34m*\u001b[0m\u001b[0;36m256\u001b[0m\u001b[0;34m)\u001b[0m\u001b[0;34m]\u001b[0m\u001b[0;34m)\u001b[0m\u001b[0;34m\u001b[0m\u001b[0m\n\u001b[0;32m----> 5\u001b[0;31m         \u001b[0mloss\u001b[0m \u001b[0;34m=\u001b[0m \u001b[0mcriterion\u001b[0m\u001b[0;34m(\u001b[0m\u001b[0moutputs\u001b[0m\u001b[0;34m,\u001b[0m \u001b[0my_train1\u001b[0m\u001b[0;34m[\u001b[0m\u001b[0mi\u001b[0m\u001b[0;34m*\u001b[0m\u001b[0;36m256\u001b[0m\u001b[0;34m:\u001b[0m\u001b[0mmin\u001b[0m\u001b[0;34m(\u001b[0m\u001b[0;36m2016\u001b[0m\u001b[0;34m,\u001b[0m\u001b[0;34m(\u001b[0m\u001b[0mi\u001b[0m\u001b[0;34m+\u001b[0m\u001b[0;36m1\u001b[0m\u001b[0;34m)\u001b[0m\u001b[0;34m*\u001b[0m\u001b[0;36m256\u001b[0m\u001b[0;34m)\u001b[0m\u001b[0;34m]\u001b[0m\u001b[0;34m)\u001b[0m\u001b[0;34m\u001b[0m\u001b[0m\n\u001b[0m\u001b[1;32m      6\u001b[0m         \u001b[0mprint\u001b[0m\u001b[0;34m(\u001b[0m\u001b[0mloss\u001b[0m\u001b[0;34m)\u001b[0m\u001b[0;34m\u001b[0m\u001b[0m\n\u001b[1;32m      7\u001b[0m         \u001b[0mloss\u001b[0m\u001b[0;34m.\u001b[0m\u001b[0mbackward\u001b[0m\u001b[0;34m(\u001b[0m\u001b[0;34m)\u001b[0m\u001b[0;34m\u001b[0m\u001b[0m\n",
      "\u001b[0;32m/opt/anaconda3/lib/python3.7/site-packages/torch/nn/modules/module.py\u001b[0m in \u001b[0;36m__call__\u001b[0;34m(self, *input, **kwargs)\u001b[0m\n\u001b[1;32m    491\u001b[0m             \u001b[0mresult\u001b[0m \u001b[0;34m=\u001b[0m \u001b[0mself\u001b[0m\u001b[0;34m.\u001b[0m\u001b[0m_slow_forward\u001b[0m\u001b[0;34m(\u001b[0m\u001b[0;34m*\u001b[0m\u001b[0minput\u001b[0m\u001b[0;34m,\u001b[0m \u001b[0;34m**\u001b[0m\u001b[0mkwargs\u001b[0m\u001b[0;34m)\u001b[0m\u001b[0;34m\u001b[0m\u001b[0m\n\u001b[1;32m    492\u001b[0m         \u001b[0;32melse\u001b[0m\u001b[0;34m:\u001b[0m\u001b[0;34m\u001b[0m\u001b[0m\n\u001b[0;32m--> 493\u001b[0;31m             \u001b[0mresult\u001b[0m \u001b[0;34m=\u001b[0m \u001b[0mself\u001b[0m\u001b[0;34m.\u001b[0m\u001b[0mforward\u001b[0m\u001b[0;34m(\u001b[0m\u001b[0;34m*\u001b[0m\u001b[0minput\u001b[0m\u001b[0;34m,\u001b[0m \u001b[0;34m**\u001b[0m\u001b[0mkwargs\u001b[0m\u001b[0;34m)\u001b[0m\u001b[0;34m\u001b[0m\u001b[0m\n\u001b[0m\u001b[1;32m    494\u001b[0m         \u001b[0;32mfor\u001b[0m \u001b[0mhook\u001b[0m \u001b[0;32min\u001b[0m \u001b[0mself\u001b[0m\u001b[0;34m.\u001b[0m\u001b[0m_forward_hooks\u001b[0m\u001b[0;34m.\u001b[0m\u001b[0mvalues\u001b[0m\u001b[0;34m(\u001b[0m\u001b[0;34m)\u001b[0m\u001b[0;34m:\u001b[0m\u001b[0;34m\u001b[0m\u001b[0m\n\u001b[1;32m    495\u001b[0m             \u001b[0mhook_result\u001b[0m \u001b[0;34m=\u001b[0m \u001b[0mhook\u001b[0m\u001b[0;34m(\u001b[0m\u001b[0mself\u001b[0m\u001b[0;34m,\u001b[0m \u001b[0minput\u001b[0m\u001b[0;34m,\u001b[0m \u001b[0mresult\u001b[0m\u001b[0;34m)\u001b[0m\u001b[0;34m\u001b[0m\u001b[0m\n",
      "\u001b[0;32m/opt/anaconda3/lib/python3.7/site-packages/torch/nn/modules/loss.py\u001b[0m in \u001b[0;36mforward\u001b[0;34m(self, input, target)\u001b[0m\n\u001b[1;32m    802\u001b[0m     \u001b[0;34m@\u001b[0m\u001b[0mweak_script_method\u001b[0m\u001b[0;34m\u001b[0m\u001b[0m\n\u001b[1;32m    803\u001b[0m     \u001b[0;32mdef\u001b[0m \u001b[0mforward\u001b[0m\u001b[0;34m(\u001b[0m\u001b[0mself\u001b[0m\u001b[0;34m,\u001b[0m \u001b[0minput\u001b[0m\u001b[0;34m,\u001b[0m \u001b[0mtarget\u001b[0m\u001b[0;34m)\u001b[0m\u001b[0;34m:\u001b[0m\u001b[0;34m\u001b[0m\u001b[0m\n\u001b[0;32m--> 804\u001b[0;31m         \u001b[0;32mreturn\u001b[0m \u001b[0mF\u001b[0m\u001b[0;34m.\u001b[0m\u001b[0msmooth_l1_loss\u001b[0m\u001b[0;34m(\u001b[0m\u001b[0minput\u001b[0m\u001b[0;34m,\u001b[0m \u001b[0mtarget\u001b[0m\u001b[0;34m,\u001b[0m \u001b[0mreduction\u001b[0m\u001b[0;34m=\u001b[0m\u001b[0mself\u001b[0m\u001b[0;34m.\u001b[0m\u001b[0mreduction\u001b[0m\u001b[0;34m)\u001b[0m\u001b[0;34m\u001b[0m\u001b[0m\n\u001b[0m\u001b[1;32m    805\u001b[0m \u001b[0;34m\u001b[0m\u001b[0m\n\u001b[1;32m    806\u001b[0m \u001b[0;34m\u001b[0m\u001b[0m\n",
      "\u001b[0;32m/opt/anaconda3/lib/python3.7/site-packages/torch/nn/functional.py\u001b[0m in \u001b[0;36msmooth_l1_loss\u001b[0;34m(input, target, size_average, reduce, reduction)\u001b[0m\n\u001b[1;32m   2203\u001b[0m     \u001b[0;32melse\u001b[0m\u001b[0;34m:\u001b[0m\u001b[0;34m\u001b[0m\u001b[0m\n\u001b[1;32m   2204\u001b[0m         \u001b[0mexpanded_input\u001b[0m\u001b[0;34m,\u001b[0m \u001b[0mexpanded_target\u001b[0m \u001b[0;34m=\u001b[0m \u001b[0mtorch\u001b[0m\u001b[0;34m.\u001b[0m\u001b[0mbroadcast_tensors\u001b[0m\u001b[0;34m(\u001b[0m\u001b[0minput\u001b[0m\u001b[0;34m,\u001b[0m \u001b[0mtarget\u001b[0m\u001b[0;34m)\u001b[0m\u001b[0;34m\u001b[0m\u001b[0m\n\u001b[0;32m-> 2205\u001b[0;31m         \u001b[0mret\u001b[0m \u001b[0;34m=\u001b[0m \u001b[0mtorch\u001b[0m\u001b[0;34m.\u001b[0m\u001b[0m_C\u001b[0m\u001b[0;34m.\u001b[0m\u001b[0m_nn\u001b[0m\u001b[0;34m.\u001b[0m\u001b[0msmooth_l1_loss\u001b[0m\u001b[0;34m(\u001b[0m\u001b[0mexpanded_input\u001b[0m\u001b[0;34m,\u001b[0m \u001b[0mexpanded_target\u001b[0m\u001b[0;34m,\u001b[0m \u001b[0m_Reduction\u001b[0m\u001b[0;34m.\u001b[0m\u001b[0mget_enum\u001b[0m\u001b[0;34m(\u001b[0m\u001b[0mreduction\u001b[0m\u001b[0;34m)\u001b[0m\u001b[0;34m)\u001b[0m\u001b[0;34m\u001b[0m\u001b[0m\n\u001b[0m\u001b[1;32m   2206\u001b[0m     \u001b[0;32mreturn\u001b[0m \u001b[0mret\u001b[0m\u001b[0;34m\u001b[0m\u001b[0m\n\u001b[1;32m   2207\u001b[0m \u001b[0;34m\u001b[0m\u001b[0m\n",
      "\u001b[0;31mKeyboardInterrupt\u001b[0m: "
     ]
    }
   ],
   "source": [
    "for epoch in range(10):\n",
    "    for i in range(8):\n",
    "        optimizer.zero_grad()\n",
    "        outputs = net(x_train1[i*256:min(2016,(i+1)*256)])\n",
    "        loss = criterion(outputs, y_train1[i*256:min(2016,(i+1)*256)])\n",
    "        print(loss)\n",
    "        loss.backward()\n",
    "        optimizer.step()\n",
    "        optimizer.zero_grad()\n",
    "        print(epoch,i)\n",
    "    print(torch.cuda.memory_allocated())\n",
    "#     print(loss)\n",
    "print('Finished Training')"
   ]
  },
  {
   "cell_type": "code",
   "execution_count": 18,
   "metadata": {},
   "outputs": [],
   "source": [
    "x_test=np.load(\"x_test.npy\")\n",
    "y_test=np.load(\"y_test.npy\")"
   ]
  },
  {
   "cell_type": "code",
   "execution_count": 10,
   "metadata": {},
   "outputs": [],
   "source": [
    "x_test=x_test.reshape((126,1,8192))\n",
    "y_test=y_test.reshape((126,1,8192))"
   ]
  },
  {
   "cell_type": "code",
   "execution_count": 8,
   "metadata": {},
   "outputs": [],
   "source": [
    "x_test=torch.from_numpy(x_test).double().cuda()\n",
    "y_test=torch.from_numpy(y_test).double().cuda()"
   ]
  },
  {
   "cell_type": "code",
   "execution_count": 12,
   "metadata": {},
   "outputs": [],
   "source": [
    "with torch.no_grad():\n",
    "    x_ans=net(x_test)"
   ]
  },
  {
   "cell_type": "code",
   "execution_count": 14,
   "metadata": {},
   "outputs": [],
   "source": [
    "x_ans_scale=np.empty((504,1,2048))\n",
    "y_ans_scale=np.empty((504,1,2048))"
   ]
  },
  {
   "cell_type": "code",
   "execution_count": 15,
   "metadata": {},
   "outputs": [],
   "source": [
    "x_ans_t=x_ans.cpu().numpy()\n",
    "y_ans_t=y_test.cpu().numpy()"
   ]
  },
  {
   "cell_type": "code",
   "execution_count": 21,
   "metadata": {},
   "outputs": [
    {
     "data": {
      "text/plain": [
       "0.13106257"
      ]
     },
     "execution_count": 21,
     "metadata": {},
     "output_type": "execute_result"
    }
   ],
   "source": [
    "min(x_ans_t[0][0])"
   ]
  },
  {
   "cell_type": "code",
   "execution_count": 22,
   "metadata": {},
   "outputs": [],
   "source": [
    "for i in range(504):\n",
    "    x_ans_scale[i][0]=(x_ans_t[i][0]-min(x_ans_t[i][0]))/(max(x_ans_t[i][0])-min(x_ans_t[i][0]))\n",
    "    x_ans_scale[i][0]= x_ans_scale[i][0]*((max(x_ans_scale[i][0])-min(x_ans_scale[i][0])))+min(x_ans_scale[i][0])\n",
    "    y_ans_scale[i][0]=(y_ans_t[i][0]-min(y_ans_t[i][0]))/(max(y_ans_t[i][0])-min(y_ans_t[i][0]))\n",
    "    y_ans_scale[i][0]= y_ans_scale[i][0]*((max(y_ans_scale[i][0])-min(y_ans_scale[i][0])))+min(y_ans_scale[i][0])"
   ]
  },
  {
   "cell_type": "code",
   "execution_count": 25,
   "metadata": {},
   "outputs": [
    {
     "data": {
      "text/plain": [
       "(252, 1, 4096)"
      ]
     },
     "execution_count": 25,
     "metadata": {},
     "output_type": "execute_result"
    }
   ],
   "source": [
    "x_ans_t.shape"
   ]
  },
  {
   "cell_type": "code",
   "execution_count": 12,
   "metadata": {},
   "outputs": [],
   "source": [
    "criterion2=nn.MSELoss(reduction='mean')"
   ]
  },
  {
   "cell_type": "code",
   "execution_count": 13,
   "metadata": {},
   "outputs": [
    {
     "data": {
      "text/plain": [
       "tensor(0.0719, device='cuda:0', dtype=torch.float64)"
      ]
     },
     "execution_count": 13,
     "metadata": {},
     "output_type": "execute_result"
    }
   ],
   "source": [
    "l1error=criterion2(x_ans,y_test)\n",
    "l1error"
   ]
  },
  {
   "cell_type": "code",
   "execution_count": null,
   "metadata": {},
   "outputs": [],
   "source": []
  },
  {
   "cell_type": "code",
   "execution_count": 36,
   "metadata": {},
   "outputs": [],
   "source": [
    "xphy=scipy.io.loadmat(\"x1.mat\")['y1']\n",
    "yphy=scipy.io.loadmat(\"y1.mat\")['x1']"
   ]
  },
  {
   "cell_type": "code",
   "execution_count": 37,
   "metadata": {},
   "outputs": [],
   "source": [
    "xphy=(xphy-np.mean(xphy))/np.std(xphy)"
   ]
  },
  {
   "cell_type": "code",
   "execution_count": 33,
   "metadata": {},
   "outputs": [],
   "source": [
    "xphy=xphy.reshape(1,-1)\n",
    "yphy=yphy.reshape(1,-1)"
   ]
  },
  {
   "cell_type": "code",
   "execution_count": 38,
   "metadata": {},
   "outputs": [],
   "source": [
    "x_test_new =np.empty((480,1,2048))\n",
    "y_test_new=np.empty((480,1,2048))"
   ]
  },
  {
   "cell_type": "code",
   "execution_count": 40,
   "metadata": {},
   "outputs": [],
   "source": [
    "for i in range(60):\n",
    "    x_test_new[i]=xphy[i*2048:(i+1)*2048].reshape(1,-1)\n",
    "    y_test_new[i]=yphy[i*2048:(i+1)*2048].reshape(1,-1)"
   ]
  },
  {
   "cell_type": "code",
   "execution_count": 43,
   "metadata": {},
   "outputs": [],
   "source": [
    "xphyt=torch.from_numpy(x_test_new).float().cuda()\n",
    "yphyt=torch.from_numpy(y_test_new).float().cuda()"
   ]
  },
  {
   "cell_type": "code",
   "execution_count": 44,
   "metadata": {},
   "outputs": [],
   "source": [
    "with torch.no_grad():\n",
    "    xphyans=net(xphyt)"
   ]
  },
  {
   "cell_type": "code",
   "execution_count": 46,
   "metadata": {},
   "outputs": [],
   "source": [
    "x_ans_scale=np.empty((480,1,2048))\n",
    "x_ans_t=xphyans.cpu().numpy()"
   ]
  },
  {
   "cell_type": "code",
   "execution_count": 48,
   "metadata": {},
   "outputs": [],
   "source": [
    "for i in range(480):\n",
    "    x_ans_scale[i][0]=(x_ans_t[i][0]-min(x_ans_t[i][0]))/(max(x_ans_t[i][0])-min(x_ans_t[i][0]))\n",
    "    x_ans_scale[i][0]= x_ans_scale[i][0]*((max(x_ans_scale[i][0])-min(x_ans_scale[i][0])))+min(x_ans_scale[i][0])"
   ]
  },
  {
   "cell_type": "code",
   "execution_count": 51,
   "metadata": {},
   "outputs": [
    {
     "data": {
      "text/plain": [
       "array([0.35410009, 0.40280851, 0.35939134, ..., 0.80900415, 0.8160364 ,\n",
       "       0.82149495])"
      ]
     },
     "execution_count": 51,
     "metadata": {},
     "output_type": "execute_result"
    }
   ],
   "source": []
  },
  {
   "cell_type": "code",
   "execution_count": 18,
   "metadata": {},
   "outputs": [
    {
     "data": {
      "text/plain": [
       "tensor(2.4930)"
      ]
     },
     "execution_count": 18,
     "metadata": {},
     "output_type": "execute_result"
    }
   ],
   "source": [
    "l1error=criterion2(torch.from_numpy(x_ans_t).float(),torch.from_numpy(y_ans_t).float())\n",
    "l1error"
   ]
  },
  {
   "cell_type": "code",
   "execution_count": 15,
   "metadata": {},
   "outputs": [
    {
     "data": {
      "text/plain": [
       "array([[[-3.83560285, -3.90245831, -3.9656548 , ...,  5.03264461,\n",
       "          4.84113817,  4.6187083 ]],\n",
       "\n",
       "       [[ 4.65978084,  4.62267879,  4.57791927, ..., -2.42012207,\n",
       "         -2.4205834 , -2.41949229]],\n",
       "\n",
       "       [[-0.40027747, -0.41083491, -0.40870417, ..., -0.23847624,\n",
       "         -0.24661941, -0.25105253]],\n",
       "\n",
       "       ...,\n",
       "\n",
       "       [[-1.44205682, -1.62678431, -1.81616312, ...,  6.22498938,\n",
       "          6.40071001,  6.51120325]],\n",
       "\n",
       "       [[-7.78860111, -7.84641005, -7.91302679, ..., -1.3209972 ,\n",
       "         -1.34691749, -1.40038142]],\n",
       "\n",
       "       [[-0.3701468 , -0.36977476, -0.37020333, ..., -1.19590025,\n",
       "         -1.18306413, -1.17249403]]])"
      ]
     },
     "execution_count": 15,
     "metadata": {},
     "output_type": "execute_result"
    }
   ],
   "source": [
    "x_test"
   ]
  },
  {
   "cell_type": "code",
   "execution_count": 14,
   "metadata": {},
   "outputs": [
    {
     "data": {
      "text/plain": [
       "array([[-3.83560285, -3.90245831, -3.9656548 , ..., -2.42012207,\n",
       "        -2.4205834 , -2.41949229]])"
      ]
     },
     "execution_count": 14,
     "metadata": {},
     "output_type": "execute_result"
    }
   ],
   "source": []
  },
  {
   "cell_type": "code",
   "execution_count": 6,
   "metadata": {},
   "outputs": [],
   "source": [
    "index=np.arange(1,2049,1)"
   ]
  },
  {
   "cell_type": "code",
   "execution_count": 14,
   "metadata": {},
   "outputs": [
    {
     "data": {
      "text/plain": [
       "[<matplotlib.lines.Line2D at 0x7f11a9c3ef60>]"
      ]
     },
     "execution_count": 14,
     "metadata": {},
     "output_type": "execute_result"
    },
    {
     "data": {
      "image/png": "[encoded data removed]",
      "text/plain": [
       "<Figure size 432x288 with 1 Axes>"
      ]
     },
     "metadata": {
      "needs_background": "light"
     },
     "output_type": "display_data"
    }
   ],
   "source": [
    "plt.plot(index,x_ans.cpu().numpy()[0][0])"
   ]
  },
  {
   "cell_type": "code",
   "execution_count": 15,
   "metadata": {},
   "outputs": [
    {
     "data": {
      "text/plain": [
       "[<matplotlib.lines.Line2D at 0x7f11a9b8e208>]"
      ]
     },
     "execution_count": 15,
     "metadata": {},
     "output_type": "execute_result"
    },
    {
     "data": {
      "image/png": "[encoded data removed]",
      "text/plain": [
       "<Figure size 432x288 with 1 Axes>"
      ]
     },
     "metadata": {
      "needs_background": "light"
     },
     "output_type": "display_data"
    }
   ],
   "source": [
    "plt.plot(index,y_test.cpu().numpy()[0][0])"
   ]
  },
  {
   "cell_type": "code",
   "execution_count": 16,
   "metadata": {},
   "outputs": [
    {
     "data": {
      "text/plain": [
       "[<matplotlib.lines.Line2D at 0x7f11a9c81f28>]"
      ]
     },
     "execution_count": 16,
     "metadata": {},
     "output_type": "execute_result"
    },
    {
     "data": {
      "image/png": "[encoded data removed]",
      "text/plain": [
       "<Figure size 432x288 with 1 Axes>"
      ]
     },
     "metadata": {
      "needs_background": "light"
     },
     "output_type": "display_data"
    }
   ],
   "source": [
    "plt.plot(index,x_test.cpu().numpy()[0][0])"
   ]
  },
  {
   "cell_type": "code",
   "execution_count": 76,
   "metadata": {},
   "outputs": [],
   "source": [
    "from pyampd.ampd import find_peaks"
   ]
  },
  {
   "cell_type": "code",
   "execution_count": 135,
   "metadata": {},
   "outputs": [
    {
     "data": {
      "text/plain": [
       "array([ 523, 1250, 3155, 5187, 6646, 7521])"
      ]
     },
     "execution_count": 135,
     "metadata": {},
     "output_type": "execute_result"
    }
   ],
   "source": [
    "find_peaks(x_ans_t[0][0],650)"
   ]
  },
  {
   "cell_type": "code",
   "execution_count": 117,
   "metadata": {},
   "outputs": [
    {
     "data": {
      "text/plain": [
       "7"
      ]
     },
     "execution_count": 117,
     "metadata": {},
     "output_type": "execute_result"
    }
   ],
   "source": [
    "find_peaks(y_ans_t[0][0],300).size"
   ]
  },
  {
   "cell_type": "code",
   "execution_count": 53,
   "metadata": {},
   "outputs": [],
   "source": [
    "brpx=np.empty((126))\n",
    "brpy=np.empty((126))"
   ]
  },
  {
   "cell_type": "code",
   "execution_count": 54,
   "metadata": {},
   "outputs": [],
   "source": [
    "for i in range(126):\n",
    "    brpx[i]=scipy.signal.find_peaks(x_ans_t[i][0],distance=600)[0].size\n",
    "    brpy[i]=scipy.signal.find_peaks(y_ans_t[i][0],distance=600)[0].size"
   ]
  },
  {
   "cell_type": "code",
   "execution_count": 61,
   "metadata": {},
   "outputs": [
    {
     "data": {
      "text/plain": [
       "0.8253968253968254"
      ]
     },
     "execution_count": 61,
     "metadata": {},
     "output_type": "execute_result"
    }
   ],
   "source": [
    "sum(abs(brpx-brpy))/126\n",
    "\n"
   ]
  },
  {
   "cell_type": "code",
   "execution_count": 18,
   "metadata": {},
   "outputs": [
    {
     "ename": "NameError",
     "evalue": "name 'brpy' is not defined",
     "output_type": "error",
     "traceback": [
      "\u001b[0;31m---------------------------------------------------------------------------\u001b[0m",
      "\u001b[0;31mNameError\u001b[0m                                 Traceback (most recent call last)",
      "\u001b[0;32m<ipython-input-18-775355afd000>\u001b[0m in \u001b[0;36m<module>\u001b[0;34m\u001b[0m\n\u001b[0;32m----> 1\u001b[0;31m \u001b[0mbrpy\u001b[0m\u001b[0;34m\u001b[0m\u001b[0m\n\u001b[0m",
      "\u001b[0;31mNameError\u001b[0m: name 'brpy' is not defined"
     ]
    }
   ],
   "source": [
    "brpy"
   ]
  },
  {
   "cell_type": "code",
   "execution_count": null,
   "metadata": {},
   "outputs": [],
   "source": []
  },
  {
   "cell_type": "code",
   "execution_count": 16,
   "metadata": {},
   "outputs": [],
   "source": [
    "torch.save(net.state_dict(),\"mynet.pt\")"
   ]
  },
  {
   "cell_type": "code",
   "execution_count": 23,
   "metadata": {},
   "outputs": [
    {
     "data": {
      "text/plain": [
       "Net(\n",
       "  (Drb11): DRB(\n",
       "    (conv111): Conv1d(1, 1, kernel_size=(1,), stride=(1,))\n",
       "    (conv111_bn): BatchNorm1d(1, eps=1e-05, momentum=0.1, affine=True, track_running_stats=True)\n",
       "    (conv112): Conv1d(1, 1, kernel_size=(1,), stride=(1,))\n",
       "    (conv112_bn): BatchNorm1d(1, eps=1e-05, momentum=0.1, affine=True, track_running_stats=True)\n",
       "    (conv113): Conv1d(1, 1, kernel_size=(1,), stride=(1,))\n",
       "    (conv113_bn): BatchNorm1d(1, eps=1e-05, momentum=0.1, affine=True, track_running_stats=True)\n",
       "    (conv114): Conv1d(1, 1, kernel_size=(1,), stride=(1,))\n",
       "    (conv114_bn): BatchNorm1d(1, eps=1e-05, momentum=0.1, affine=True, track_running_stats=True)\n",
       "    (relu1): LeakyReLU(negative_slope=0.01)\n",
       "    (conv131): Conv1d(1, 1, kernel_size=(3,), stride=(1,), padding=(2,), dilation=(2,))\n",
       "    (conv131_bn): BatchNorm1d(1, eps=1e-05, momentum=0.1, affine=True, track_running_stats=True)\n",
       "    (relu2): LeakyReLU(negative_slope=0.01)\n",
       "    (conv132): Conv1d(1, 1, kernel_size=(3,), stride=(1,), padding=(4,), dilation=(4,))\n",
       "    (conv132_bn): BatchNorm1d(1, eps=1e-05, momentum=0.1, affine=True, track_running_stats=True)\n",
       "    (relu3): LeakyReLU(negative_slope=0.01)\n",
       "    (conv133): Conv1d(1, 1, kernel_size=(3,), stride=(1,), padding=(8,), dilation=(8,))\n",
       "    (conv133_bn): BatchNorm1d(1, eps=1e-05, momentum=0.1, affine=True, track_running_stats=True)\n",
       "    (conv11p): Conv1d(4, 1, kernel_size=(1,), stride=(1,))\n",
       "  )\n",
       "  (conv11): Conv1d(1, 32, kernel_size=(4,), stride=(2,), padding=(1,))\n",
       "  (conv11_bn): BatchNorm1d(32, eps=1e-05, momentum=0.1, affine=True, track_running_stats=True)\n",
       "  (relu11): LeakyReLU(negative_slope=0.01)\n",
       "  (Drb12): DRB(\n",
       "    (conv111): Conv1d(32, 1, kernel_size=(1,), stride=(1,))\n",
       "    (conv111_bn): BatchNorm1d(1, eps=1e-05, momentum=0.1, affine=True, track_running_stats=True)\n",
       "    (conv112): Conv1d(32, 1, kernel_size=(1,), stride=(1,))\n",
       "    (conv112_bn): BatchNorm1d(1, eps=1e-05, momentum=0.1, affine=True, track_running_stats=True)\n",
       "    (conv113): Conv1d(32, 1, kernel_size=(1,), stride=(1,))\n",
       "    (conv113_bn): BatchNorm1d(1, eps=1e-05, momentum=0.1, affine=True, track_running_stats=True)\n",
       "    (conv114): Conv1d(32, 1, kernel_size=(1,), stride=(1,))\n",
       "    (conv114_bn): BatchNorm1d(1, eps=1e-05, momentum=0.1, affine=True, track_running_stats=True)\n",
       "    (relu1): LeakyReLU(negative_slope=0.01)\n",
       "    (conv131): Conv1d(1, 1, kernel_size=(3,), stride=(1,), padding=(2,), dilation=(2,))\n",
       "    (conv131_bn): BatchNorm1d(1, eps=1e-05, momentum=0.1, affine=True, track_running_stats=True)\n",
       "    (relu2): LeakyReLU(negative_slope=0.01)\n",
       "    (conv132): Conv1d(1, 1, kernel_size=(3,), stride=(1,), padding=(4,), dilation=(4,))\n",
       "    (conv132_bn): BatchNorm1d(1, eps=1e-05, momentum=0.1, affine=True, track_running_stats=True)\n",
       "    (relu3): LeakyReLU(negative_slope=0.01)\n",
       "    (conv133): Conv1d(1, 1, kernel_size=(3,), stride=(1,), padding=(8,), dilation=(8,))\n",
       "    (conv133_bn): BatchNorm1d(1, eps=1e-05, momentum=0.1, affine=True, track_running_stats=True)\n",
       "    (conv11p): Conv1d(4, 1, kernel_size=(1,), stride=(1,))\n",
       "  )\n",
       "  (conv12): Conv1d(32, 64, kernel_size=(4,), stride=(2,), padding=(1,))\n",
       "  (conv12_bn): BatchNorm1d(64, eps=1e-05, momentum=0.1, affine=True, track_running_stats=True)\n",
       "  (relu12): LeakyReLU(negative_slope=0.01)\n",
       "  (Drb13): DRB(\n",
       "    (conv111): Conv1d(64, 1, kernel_size=(1,), stride=(1,))\n",
       "    (conv111_bn): BatchNorm1d(1, eps=1e-05, momentum=0.1, affine=True, track_running_stats=True)\n",
       "    (conv112): Conv1d(64, 1, kernel_size=(1,), stride=(1,))\n",
       "    (conv112_bn): BatchNorm1d(1, eps=1e-05, momentum=0.1, affine=True, track_running_stats=True)\n",
       "    (conv113): Conv1d(64, 1, kernel_size=(1,), stride=(1,))\n",
       "    (conv113_bn): BatchNorm1d(1, eps=1e-05, momentum=0.1, affine=True, track_running_stats=True)\n",
       "    (conv114): Conv1d(64, 1, kernel_size=(1,), stride=(1,))\n",
       "    (conv114_bn): BatchNorm1d(1, eps=1e-05, momentum=0.1, affine=True, track_running_stats=True)\n",
       "    (relu1): LeakyReLU(negative_slope=0.01)\n",
       "    (conv131): Conv1d(1, 1, kernel_size=(3,), stride=(1,), padding=(2,), dilation=(2,))\n",
       "    (conv131_bn): BatchNorm1d(1, eps=1e-05, momentum=0.1, affine=True, track_running_stats=True)\n",
       "    (relu2): LeakyReLU(negative_slope=0.01)\n",
       "    (conv132): Conv1d(1, 1, kernel_size=(3,), stride=(1,), padding=(4,), dilation=(4,))\n",
       "    (conv132_bn): BatchNorm1d(1, eps=1e-05, momentum=0.1, affine=True, track_running_stats=True)\n",
       "    (relu3): LeakyReLU(negative_slope=0.01)\n",
       "    (conv133): Conv1d(1, 1, kernel_size=(3,), stride=(1,), padding=(8,), dilation=(8,))\n",
       "    (conv133_bn): BatchNorm1d(1, eps=1e-05, momentum=0.1, affine=True, track_running_stats=True)\n",
       "    (conv11p): Conv1d(4, 1, kernel_size=(1,), stride=(1,))\n",
       "  )\n",
       "  (conv13): Conv1d(64, 128, kernel_size=(4,), stride=(2,), padding=(1,))\n",
       "  (conv13_bn): BatchNorm1d(128, eps=1e-05, momentum=0.1, affine=True, track_running_stats=True)\n",
       "  (relu13): LeakyReLU(negative_slope=0.01)\n",
       "  (Drb14): DRB(\n",
       "    (conv111): Conv1d(128, 1, kernel_size=(1,), stride=(1,))\n",
       "    (conv111_bn): BatchNorm1d(1, eps=1e-05, momentum=0.1, affine=True, track_running_stats=True)\n",
       "    (conv112): Conv1d(128, 1, kernel_size=(1,), stride=(1,))\n",
       "    (conv112_bn): BatchNorm1d(1, eps=1e-05, momentum=0.1, affine=True, track_running_stats=True)\n",
       "    (conv113): Conv1d(128, 1, kernel_size=(1,), stride=(1,))\n",
       "    (conv113_bn): BatchNorm1d(1, eps=1e-05, momentum=0.1, affine=True, track_running_stats=True)\n",
       "    (conv114): Conv1d(128, 1, kernel_size=(1,), stride=(1,))\n",
       "    (conv114_bn): BatchNorm1d(1, eps=1e-05, momentum=0.1, affine=True, track_running_stats=True)\n",
       "    (relu1): LeakyReLU(negative_slope=0.01)\n",
       "    (conv131): Conv1d(1, 1, kernel_size=(3,), stride=(1,), padding=(2,), dilation=(2,))\n",
       "    (conv131_bn): BatchNorm1d(1, eps=1e-05, momentum=0.1, affine=True, track_running_stats=True)\n",
       "    (relu2): LeakyReLU(negative_slope=0.01)\n",
       "    (conv132): Conv1d(1, 1, kernel_size=(3,), stride=(1,), padding=(4,), dilation=(4,))\n",
       "    (conv132_bn): BatchNorm1d(1, eps=1e-05, momentum=0.1, affine=True, track_running_stats=True)\n",
       "    (relu3): LeakyReLU(negative_slope=0.01)\n",
       "    (conv133): Conv1d(1, 1, kernel_size=(3,), stride=(1,), padding=(8,), dilation=(8,))\n",
       "    (conv133_bn): BatchNorm1d(1, eps=1e-05, momentum=0.1, affine=True, track_running_stats=True)\n",
       "    (conv11p): Conv1d(4, 1, kernel_size=(1,), stride=(1,))\n",
       "  )\n",
       "  (conv14): Conv1d(128, 256, kernel_size=(4,), stride=(2,), padding=(1,))\n",
       "  (conv14_bn): BatchNorm1d(256, eps=1e-05, momentum=0.1, affine=True, track_running_stats=True)\n",
       "  (relu14): LeakyReLU(negative_slope=0.01)\n",
       "  (Drb15): DRB(\n",
       "    (conv111): Conv1d(256, 1, kernel_size=(1,), stride=(1,))\n",
       "    (conv111_bn): BatchNorm1d(1, eps=1e-05, momentum=0.1, affine=True, track_running_stats=True)\n",
       "    (conv112): Conv1d(256, 1, kernel_size=(1,), stride=(1,))\n",
       "    (conv112_bn): BatchNorm1d(1, eps=1e-05, momentum=0.1, affine=True, track_running_stats=True)\n",
       "    (conv113): Conv1d(256, 1, kernel_size=(1,), stride=(1,))\n",
       "    (conv113_bn): BatchNorm1d(1, eps=1e-05, momentum=0.1, affine=True, track_running_stats=True)\n",
       "    (conv114): Conv1d(256, 1, kernel_size=(1,), stride=(1,))\n",
       "    (conv114_bn): BatchNorm1d(1, eps=1e-05, momentum=0.1, affine=True, track_running_stats=True)\n",
       "    (relu1): LeakyReLU(negative_slope=0.01)\n",
       "    (conv131): Conv1d(1, 1, kernel_size=(3,), stride=(1,), padding=(2,), dilation=(2,))\n",
       "    (conv131_bn): BatchNorm1d(1, eps=1e-05, momentum=0.1, affine=True, track_running_stats=True)\n",
       "    (relu2): LeakyReLU(negative_slope=0.01)\n",
       "    (conv132): Conv1d(1, 1, kernel_size=(3,), stride=(1,), padding=(4,), dilation=(4,))\n",
       "    (conv132_bn): BatchNorm1d(1, eps=1e-05, momentum=0.1, affine=True, track_running_stats=True)\n",
       "    (relu3): LeakyReLU(negative_slope=0.01)\n",
       "    (conv133): Conv1d(1, 1, kernel_size=(3,), stride=(1,), padding=(8,), dilation=(8,))\n",
       "    (conv133_bn): BatchNorm1d(1, eps=1e-05, momentum=0.1, affine=True, track_running_stats=True)\n",
       "    (conv11p): Conv1d(4, 1, kernel_size=(1,), stride=(1,))\n",
       "  )\n",
       "  (conv15): Conv1d(256, 512, kernel_size=(4,), stride=(2,), padding=(1,))\n",
       "  (conv15_bn): BatchNorm1d(512, eps=1e-05, momentum=0.1, affine=True, track_running_stats=True)\n",
       "  (relu15): LeakyReLU(negative_slope=0.01)\n",
       "  (Drb16): DRB(\n",
       "    (conv111): Conv1d(512, 1, kernel_size=(1,), stride=(1,))\n",
       "    (conv111_bn): BatchNorm1d(1, eps=1e-05, momentum=0.1, affine=True, track_running_stats=True)\n",
       "    (conv112): Conv1d(512, 1, kernel_size=(1,), stride=(1,))\n",
       "    (conv112_bn): BatchNorm1d(1, eps=1e-05, momentum=0.1, affine=True, track_running_stats=True)\n",
       "    (conv113): Conv1d(512, 1, kernel_size=(1,), stride=(1,))\n",
       "    (conv113_bn): BatchNorm1d(1, eps=1e-05, momentum=0.1, affine=True, track_running_stats=True)\n",
       "    (conv114): Conv1d(512, 1, kernel_size=(1,), stride=(1,))\n",
       "    (conv114_bn): BatchNorm1d(1, eps=1e-05, momentum=0.1, affine=True, track_running_stats=True)\n",
       "    (relu1): LeakyReLU(negative_slope=0.01)\n",
       "    (conv131): Conv1d(1, 1, kernel_size=(3,), stride=(1,), padding=(2,), dilation=(2,))\n",
       "    (conv131_bn): BatchNorm1d(1, eps=1e-05, momentum=0.1, affine=True, track_running_stats=True)\n",
       "    (relu2): LeakyReLU(negative_slope=0.01)\n",
       "    (conv132): Conv1d(1, 1, kernel_size=(3,), stride=(1,), padding=(4,), dilation=(4,))\n",
       "    (conv132_bn): BatchNorm1d(1, eps=1e-05, momentum=0.1, affine=True, track_running_stats=True)\n",
       "    (relu3): LeakyReLU(negative_slope=0.01)\n",
       "    (conv133): Conv1d(1, 1, kernel_size=(3,), stride=(1,), padding=(8,), dilation=(8,))\n",
       "    (conv133_bn): BatchNorm1d(1, eps=1e-05, momentum=0.1, affine=True, track_running_stats=True)\n",
       "    (conv11p): Conv1d(4, 1, kernel_size=(1,), stride=(1,))\n",
       "  )\n",
       "  (conv16): Conv1d(512, 512, kernel_size=(4,), stride=(2,), padding=(1,))\n",
       "  (conv16_bn): BatchNorm1d(512, eps=1e-05, momentum=0.1, affine=True, track_running_stats=True)\n",
       "  (relu16): LeakyReLU(negative_slope=0.01)\n",
       "  (Drb17): DRB(\n",
       "    (conv111): Conv1d(512, 1, kernel_size=(1,), stride=(1,))\n",
       "    (conv111_bn): BatchNorm1d(1, eps=1e-05, momentum=0.1, affine=True, track_running_stats=True)\n",
       "    (conv112): Conv1d(512, 1, kernel_size=(1,), stride=(1,))\n",
       "    (conv112_bn): BatchNorm1d(1, eps=1e-05, momentum=0.1, affine=True, track_running_stats=True)\n",
       "    (conv113): Conv1d(512, 1, kernel_size=(1,), stride=(1,))\n",
       "    (conv113_bn): BatchNorm1d(1, eps=1e-05, momentum=0.1, affine=True, track_running_stats=True)\n",
       "    (conv114): Conv1d(512, 1, kernel_size=(1,), stride=(1,))\n",
       "    (conv114_bn): BatchNorm1d(1, eps=1e-05, momentum=0.1, affine=True, track_running_stats=True)\n",
       "    (relu1): LeakyReLU(negative_slope=0.01)\n",
       "    (conv131): Conv1d(1, 1, kernel_size=(3,), stride=(1,), padding=(2,), dilation=(2,))\n",
       "    (conv131_bn): BatchNorm1d(1, eps=1e-05, momentum=0.1, affine=True, track_running_stats=True)\n",
       "    (relu2): LeakyReLU(negative_slope=0.01)\n",
       "    (conv132): Conv1d(1, 1, kernel_size=(3,), stride=(1,), padding=(4,), dilation=(4,))\n",
       "    (conv132_bn): BatchNorm1d(1, eps=1e-05, momentum=0.1, affine=True, track_running_stats=True)\n",
       "    (relu3): LeakyReLU(negative_slope=0.01)\n",
       "    (conv133): Conv1d(1, 1, kernel_size=(3,), stride=(1,), padding=(8,), dilation=(8,))\n",
       "    (conv133_bn): BatchNorm1d(1, eps=1e-05, momentum=0.1, affine=True, track_running_stats=True)\n",
       "    (conv11p): Conv1d(4, 1, kernel_size=(1,), stride=(1,))\n",
       "  )\n",
       "  (conv17): Conv1d(512, 512, kernel_size=(4,), stride=(2,), padding=(1,))\n",
       "  (conv17_bn): BatchNorm1d(512, eps=1e-05, momentum=0.1, affine=True, track_running_stats=True)\n",
       "  (relu17): LeakyReLU(negative_slope=0.01)\n",
       "  (Drb21): DRB(\n",
       "    (conv111): Conv1d(512, 1, kernel_size=(1,), stride=(1,))\n",
       "    (conv111_bn): BatchNorm1d(1, eps=1e-05, momentum=0.1, affine=True, track_running_stats=True)\n",
       "    (conv112): Conv1d(512, 1, kernel_size=(1,), stride=(1,))\n",
       "    (conv112_bn): BatchNorm1d(1, eps=1e-05, momentum=0.1, affine=True, track_running_stats=True)\n",
       "    (conv113): Conv1d(512, 1, kernel_size=(1,), stride=(1,))\n",
       "    (conv113_bn): BatchNorm1d(1, eps=1e-05, momentum=0.1, affine=True, track_running_stats=True)\n",
       "    (conv114): Conv1d(512, 1, kernel_size=(1,), stride=(1,))\n",
       "    (conv114_bn): BatchNorm1d(1, eps=1e-05, momentum=0.1, affine=True, track_running_stats=True)\n",
       "    (relu1): LeakyReLU(negative_slope=0.01)\n",
       "    (conv131): Conv1d(1, 1, kernel_size=(3,), stride=(1,), padding=(2,), dilation=(2,))\n",
       "    (conv131_bn): BatchNorm1d(1, eps=1e-05, momentum=0.1, affine=True, track_running_stats=True)\n",
       "    (relu2): LeakyReLU(negative_slope=0.01)\n",
       "    (conv132): Conv1d(1, 1, kernel_size=(3,), stride=(1,), padding=(4,), dilation=(4,))\n",
       "    (conv132_bn): BatchNorm1d(1, eps=1e-05, momentum=0.1, affine=True, track_running_stats=True)\n",
       "    (relu3): LeakyReLU(negative_slope=0.01)\n",
       "    (conv133): Conv1d(1, 1, kernel_size=(3,), stride=(1,), padding=(8,), dilation=(8,))\n",
       "    (conv133_bn): BatchNorm1d(1, eps=1e-05, momentum=0.1, affine=True, track_running_stats=True)\n",
       "    (conv11p): Conv1d(4, 1, kernel_size=(1,), stride=(1,))\n",
       "  )\n",
       "  (deconv21): ConvTranspose1d(512, 512, kernel_size=(4,), stride=(2,), padding=(1,))\n",
       "  (conv21_bn): BatchNorm1d(512, eps=1e-05, momentum=0.1, affine=True, track_running_stats=True)\n",
       "  (relu21): LeakyReLU(negative_slope=0.01)\n",
       "  (Drb22): DRB(\n",
       "    (conv111): Conv1d(1024, 1, kernel_size=(1,), stride=(1,))\n",
       "    (conv111_bn): BatchNorm1d(1, eps=1e-05, momentum=0.1, affine=True, track_running_stats=True)\n",
       "    (conv112): Conv1d(1024, 1, kernel_size=(1,), stride=(1,))\n",
       "    (conv112_bn): BatchNorm1d(1, eps=1e-05, momentum=0.1, affine=True, track_running_stats=True)\n",
       "    (conv113): Conv1d(1024, 1, kernel_size=(1,), stride=(1,))\n",
       "    (conv113_bn): BatchNorm1d(1, eps=1e-05, momentum=0.1, affine=True, track_running_stats=True)\n",
       "    (conv114): Conv1d(1024, 1, kernel_size=(1,), stride=(1,))\n",
       "    (conv114_bn): BatchNorm1d(1, eps=1e-05, momentum=0.1, affine=True, track_running_stats=True)\n",
       "    (relu1): LeakyReLU(negative_slope=0.01)\n",
       "    (conv131): Conv1d(1, 1, kernel_size=(3,), stride=(1,), padding=(2,), dilation=(2,))\n",
       "    (conv131_bn): BatchNorm1d(1, eps=1e-05, momentum=0.1, affine=True, track_running_stats=True)\n",
       "    (relu2): LeakyReLU(negative_slope=0.01)\n",
       "    (conv132): Conv1d(1, 1, kernel_size=(3,), stride=(1,), padding=(4,), dilation=(4,))\n",
       "    (conv132_bn): BatchNorm1d(1, eps=1e-05, momentum=0.1, affine=True, track_running_stats=True)\n",
       "    (relu3): LeakyReLU(negative_slope=0.01)\n",
       "    (conv133): Conv1d(1, 1, kernel_size=(3,), stride=(1,), padding=(8,), dilation=(8,))\n",
       "    (conv133_bn): BatchNorm1d(1, eps=1e-05, momentum=0.1, affine=True, track_running_stats=True)\n",
       "    (conv11p): Conv1d(4, 1, kernel_size=(1,), stride=(1,))\n",
       "  )\n",
       "  (deconv22): ConvTranspose1d(1024, 512, kernel_size=(4,), stride=(2,), padding=(1,))\n",
       "  (conv22_bn): BatchNorm1d(512, eps=1e-05, momentum=0.1, affine=True, track_running_stats=True)\n",
       "  (relu22): LeakyReLU(negative_slope=0.01)\n",
       "  (Drb23): DRB(\n",
       "    (conv111): Conv1d(1024, 1, kernel_size=(1,), stride=(1,))\n",
       "    (conv111_bn): BatchNorm1d(1, eps=1e-05, momentum=0.1, affine=True, track_running_stats=True)\n",
       "    (conv112): Conv1d(1024, 1, kernel_size=(1,), stride=(1,))\n",
       "    (conv112_bn): BatchNorm1d(1, eps=1e-05, momentum=0.1, affine=True, track_running_stats=True)\n",
       "    (conv113): Conv1d(1024, 1, kernel_size=(1,), stride=(1,))\n",
       "    (conv113_bn): BatchNorm1d(1, eps=1e-05, momentum=0.1, affine=True, track_running_stats=True)\n",
       "    (conv114): Conv1d(1024, 1, kernel_size=(1,), stride=(1,))\n",
       "    (conv114_bn): BatchNorm1d(1, eps=1e-05, momentum=0.1, affine=True, track_running_stats=True)\n",
       "    (relu1): LeakyReLU(negative_slope=0.01)\n",
       "    (conv131): Conv1d(1, 1, kernel_size=(3,), stride=(1,), padding=(2,), dilation=(2,))\n",
       "    (conv131_bn): BatchNorm1d(1, eps=1e-05, momentum=0.1, affine=True, track_running_stats=True)\n",
       "    (relu2): LeakyReLU(negative_slope=0.01)\n",
       "    (conv132): Conv1d(1, 1, kernel_size=(3,), stride=(1,), padding=(4,), dilation=(4,))\n",
       "    (conv132_bn): BatchNorm1d(1, eps=1e-05, momentum=0.1, affine=True, track_running_stats=True)\n",
       "    (relu3): LeakyReLU(negative_slope=0.01)\n",
       "    (conv133): Conv1d(1, 1, kernel_size=(3,), stride=(1,), padding=(8,), dilation=(8,))\n",
       "    (conv133_bn): BatchNorm1d(1, eps=1e-05, momentum=0.1, affine=True, track_running_stats=True)\n",
       "    (conv11p): Conv1d(4, 1, kernel_size=(1,), stride=(1,))\n",
       "  )\n",
       "  (deconv23): ConvTranspose1d(1024, 256, kernel_size=(4,), stride=(2,), padding=(1,))\n",
       "  (conv23_bn): BatchNorm1d(256, eps=1e-05, momentum=0.1, affine=True, track_running_stats=True)\n",
       "  (relu23): LeakyReLU(negative_slope=0.01)\n",
       "  (Drb24): DRB(\n",
       "    (conv111): Conv1d(512, 1, kernel_size=(1,), stride=(1,))\n",
       "    (conv111_bn): BatchNorm1d(1, eps=1e-05, momentum=0.1, affine=True, track_running_stats=True)\n",
       "    (conv112): Conv1d(512, 1, kernel_size=(1,), stride=(1,))\n",
       "    (conv112_bn): BatchNorm1d(1, eps=1e-05, momentum=0.1, affine=True, track_running_stats=True)\n",
       "    (conv113): Conv1d(512, 1, kernel_size=(1,), stride=(1,))\n",
       "    (conv113_bn): BatchNorm1d(1, eps=1e-05, momentum=0.1, affine=True, track_running_stats=True)\n",
       "    (conv114): Conv1d(512, 1, kernel_size=(1,), stride=(1,))\n",
       "    (conv114_bn): BatchNorm1d(1, eps=1e-05, momentum=0.1, affine=True, track_running_stats=True)\n",
       "    (relu1): LeakyReLU(negative_slope=0.01)\n",
       "    (conv131): Conv1d(1, 1, kernel_size=(3,), stride=(1,), padding=(2,), dilation=(2,))\n",
       "    (conv131_bn): BatchNorm1d(1, eps=1e-05, momentum=0.1, affine=True, track_running_stats=True)\n",
       "    (relu2): LeakyReLU(negative_slope=0.01)\n",
       "    (conv132): Conv1d(1, 1, kernel_size=(3,), stride=(1,), padding=(4,), dilation=(4,))\n",
       "    (conv132_bn): BatchNorm1d(1, eps=1e-05, momentum=0.1, affine=True, track_running_stats=True)\n",
       "    (relu3): LeakyReLU(negative_slope=0.01)\n",
       "    (conv133): Conv1d(1, 1, kernel_size=(3,), stride=(1,), padding=(8,), dilation=(8,))\n",
       "    (conv133_bn): BatchNorm1d(1, eps=1e-05, momentum=0.1, affine=True, track_running_stats=True)\n",
       "    (conv11p): Conv1d(4, 1, kernel_size=(1,), stride=(1,))\n",
       "  )\n",
       "  (deconv24): ConvTranspose1d(512, 128, kernel_size=(4,), stride=(2,), padding=(1,))\n",
       "  (conv24_bn): BatchNorm1d(128, eps=1e-05, momentum=0.1, affine=True, track_running_stats=True)\n",
       "  (relu24): LeakyReLU(negative_slope=0.01)\n",
       "  (Drb25): DRB(\n",
       "    (conv111): Conv1d(256, 1, kernel_size=(1,), stride=(1,))\n",
       "    (conv111_bn): BatchNorm1d(1, eps=1e-05, momentum=0.1, affine=True, track_running_stats=True)\n",
       "    (conv112): Conv1d(256, 1, kernel_size=(1,), stride=(1,))\n",
       "    (conv112_bn): BatchNorm1d(1, eps=1e-05, momentum=0.1, affine=True, track_running_stats=True)\n",
       "    (conv113): Conv1d(256, 1, kernel_size=(1,), stride=(1,))\n",
       "    (conv113_bn): BatchNorm1d(1, eps=1e-05, momentum=0.1, affine=True, track_running_stats=True)\n",
       "    (conv114): Conv1d(256, 1, kernel_size=(1,), stride=(1,))\n",
       "    (conv114_bn): BatchNorm1d(1, eps=1e-05, momentum=0.1, affine=True, track_running_stats=True)\n",
       "    (relu1): LeakyReLU(negative_slope=0.01)\n",
       "    (conv131): Conv1d(1, 1, kernel_size=(3,), stride=(1,), padding=(2,), dilation=(2,))\n",
       "    (conv131_bn): BatchNorm1d(1, eps=1e-05, momentum=0.1, affine=True, track_running_stats=True)\n",
       "    (relu2): LeakyReLU(negative_slope=0.01)\n",
       "    (conv132): Conv1d(1, 1, kernel_size=(3,), stride=(1,), padding=(4,), dilation=(4,))\n",
       "    (conv132_bn): BatchNorm1d(1, eps=1e-05, momentum=0.1, affine=True, track_running_stats=True)\n",
       "    (relu3): LeakyReLU(negative_slope=0.01)\n",
       "    (conv133): Conv1d(1, 1, kernel_size=(3,), stride=(1,), padding=(8,), dilation=(8,))\n",
       "    (conv133_bn): BatchNorm1d(1, eps=1e-05, momentum=0.1, affine=True, track_running_stats=True)\n",
       "    (conv11p): Conv1d(4, 1, kernel_size=(1,), stride=(1,))\n",
       "  )\n",
       "  (deconv25): ConvTranspose1d(256, 64, kernel_size=(4,), stride=(2,), padding=(1,))\n",
       "  (conv25_bn): BatchNorm1d(64, eps=1e-05, momentum=0.1, affine=True, track_running_stats=True)\n",
       "  (relu25): LeakyReLU(negative_slope=0.01)\n",
       "  (Drb26): DRB(\n",
       "    (conv111): Conv1d(128, 1, kernel_size=(1,), stride=(1,))\n",
       "    (conv111_bn): BatchNorm1d(1, eps=1e-05, momentum=0.1, affine=True, track_running_stats=True)\n",
       "    (conv112): Conv1d(128, 1, kernel_size=(1,), stride=(1,))\n",
       "    (conv112_bn): BatchNorm1d(1, eps=1e-05, momentum=0.1, affine=True, track_running_stats=True)\n",
       "    (conv113): Conv1d(128, 1, kernel_size=(1,), stride=(1,))\n",
       "    (conv113_bn): BatchNorm1d(1, eps=1e-05, momentum=0.1, affine=True, track_running_stats=True)\n",
       "    (conv114): Conv1d(128, 1, kernel_size=(1,), stride=(1,))\n",
       "    (conv114_bn): BatchNorm1d(1, eps=1e-05, momentum=0.1, affine=True, track_running_stats=True)\n",
       "    (relu1): LeakyReLU(negative_slope=0.01)\n",
       "    (conv131): Conv1d(1, 1, kernel_size=(3,), stride=(1,), padding=(2,), dilation=(2,))\n",
       "    (conv131_bn): BatchNorm1d(1, eps=1e-05, momentum=0.1, affine=True, track_running_stats=True)\n",
       "    (relu2): LeakyReLU(negative_slope=0.01)\n",
       "    (conv132): Conv1d(1, 1, kernel_size=(3,), stride=(1,), padding=(4,), dilation=(4,))\n",
       "    (conv132_bn): BatchNorm1d(1, eps=1e-05, momentum=0.1, affine=True, track_running_stats=True)\n",
       "    (relu3): LeakyReLU(negative_slope=0.01)\n",
       "    (conv133): Conv1d(1, 1, kernel_size=(3,), stride=(1,), padding=(8,), dilation=(8,))\n",
       "    (conv133_bn): BatchNorm1d(1, eps=1e-05, momentum=0.1, affine=True, track_running_stats=True)\n",
       "    (conv11p): Conv1d(4, 1, kernel_size=(1,), stride=(1,))\n",
       "  )\n",
       "  (deconv26): ConvTranspose1d(128, 32, kernel_size=(4,), stride=(2,), padding=(1,))\n",
       "  (conv26_bn): BatchNorm1d(32, eps=1e-05, momentum=0.1, affine=True, track_running_stats=True)\n",
       "  (relu26): LeakyReLU(negative_slope=0.01)\n",
       "  (Drb27): DRB(\n",
       "    (conv111): Conv1d(64, 1, kernel_size=(1,), stride=(1,))\n",
       "    (conv111_bn): BatchNorm1d(1, eps=1e-05, momentum=0.1, affine=True, track_running_stats=True)\n",
       "    (conv112): Conv1d(64, 1, kernel_size=(1,), stride=(1,))\n",
       "    (conv112_bn): BatchNorm1d(1, eps=1e-05, momentum=0.1, affine=True, track_running_stats=True)\n",
       "    (conv113): Conv1d(64, 1, kernel_size=(1,), stride=(1,))\n",
       "    (conv113_bn): BatchNorm1d(1, eps=1e-05, momentum=0.1, affine=True, track_running_stats=True)\n",
       "    (conv114): Conv1d(64, 1, kernel_size=(1,), stride=(1,))\n",
       "    (conv114_bn): BatchNorm1d(1, eps=1e-05, momentum=0.1, affine=True, track_running_stats=True)\n",
       "    (relu1): LeakyReLU(negative_slope=0.01)\n",
       "    (conv131): Conv1d(1, 1, kernel_size=(3,), stride=(1,), padding=(2,), dilation=(2,))\n",
       "    (conv131_bn): BatchNorm1d(1, eps=1e-05, momentum=0.1, affine=True, track_running_stats=True)\n",
       "    (relu2): LeakyReLU(negative_slope=0.01)\n",
       "    (conv132): Conv1d(1, 1, kernel_size=(3,), stride=(1,), padding=(4,), dilation=(4,))\n",
       "    (conv132_bn): BatchNorm1d(1, eps=1e-05, momentum=0.1, affine=True, track_running_stats=True)\n",
       "    (relu3): LeakyReLU(negative_slope=0.01)\n",
       "    (conv133): Conv1d(1, 1, kernel_size=(3,), stride=(1,), padding=(8,), dilation=(8,))\n",
       "    (conv133_bn): BatchNorm1d(1, eps=1e-05, momentum=0.1, affine=True, track_running_stats=True)\n",
       "    (conv11p): Conv1d(4, 1, kernel_size=(1,), stride=(1,))\n",
       "  )\n",
       "  (deconv27): ConvTranspose1d(64, 1, kernel_size=(4,), stride=(2,), padding=(1,))\n",
       "  (conv27_bn): BatchNorm1d(1, eps=1e-05, momentum=0.1, affine=True, track_running_stats=True)\n",
       "  (relu27): LeakyReLU(negative_slope=0.01)\n",
       "  (Drb28): DRB(\n",
       "    (conv111): Conv1d(2, 1, kernel_size=(1,), stride=(1,))\n",
       "    (conv111_bn): BatchNorm1d(1, eps=1e-05, momentum=0.1, affine=True, track_running_stats=True)\n",
       "    (conv112): Conv1d(2, 1, kernel_size=(1,), stride=(1,))\n",
       "    (conv112_bn): BatchNorm1d(1, eps=1e-05, momentum=0.1, affine=True, track_running_stats=True)\n",
       "    (conv113): Conv1d(2, 1, kernel_size=(1,), stride=(1,))\n",
       "    (conv113_bn): BatchNorm1d(1, eps=1e-05, momentum=0.1, affine=True, track_running_stats=True)\n",
       "    (conv114): Conv1d(2, 1, kernel_size=(1,), stride=(1,))\n",
       "    (conv114_bn): BatchNorm1d(1, eps=1e-05, momentum=0.1, affine=True, track_running_stats=True)\n",
       "    (relu1): LeakyReLU(negative_slope=0.01)\n",
       "    (conv131): Conv1d(1, 1, kernel_size=(3,), stride=(1,), padding=(2,), dilation=(2,))\n",
       "    (conv131_bn): BatchNorm1d(1, eps=1e-05, momentum=0.1, affine=True, track_running_stats=True)\n",
       "    (relu2): LeakyReLU(negative_slope=0.01)\n",
       "    (conv132): Conv1d(1, 1, kernel_size=(3,), stride=(1,), padding=(4,), dilation=(4,))\n",
       "    (conv132_bn): BatchNorm1d(1, eps=1e-05, momentum=0.1, affine=True, track_running_stats=True)\n",
       "    (relu3): LeakyReLU(negative_slope=0.01)\n",
       "    (conv133): Conv1d(1, 1, kernel_size=(3,), stride=(1,), padding=(8,), dilation=(8,))\n",
       "    (conv133_bn): BatchNorm1d(1, eps=1e-05, momentum=0.1, affine=True, track_running_stats=True)\n",
       "    (conv11p): Conv1d(4, 1, kernel_size=(1,), stride=(1,))\n",
       "  )\n",
       "  (conv28): Conv1d(2, 1, kernel_size=(1,), stride=(1,))\n",
       ")"
      ]
     },
     "execution_count": 23,
     "metadata": {},
     "output_type": "execute_result"
    }
   ],
   "source": [
    "net.load_state_dict(torch.load(\"mynet.pt\"))\n",
    "net.eval()"
   ]
  },
  {
   "cell_type": "code",
   "execution_count": 12,
   "metadata": {},
   "outputs": [],
   "source": []
  },
  {
   "cell_type": "code",
   "execution_count": 9,
   "metadata": {},
   "outputs": [],
   "source": []
  },
  {
   "cell_type": "code",
   "execution_count": null,
   "metadata": {},
   "outputs": [],
   "source": []
  }
 ],
 "metadata": {
  "kernelspec": {
   "display_name": "Python 3",
   "language": "python",
   "name": "python3"
  },
  "language_info": {
   "codemirror_mode": {
    "name": "ipython",
    "version": 3
   },
   "file_extension": ".py",
   "mimetype": "text/x-python",
   "name": "python",
   "nbconvert_exporter": "python",
   "pygments_lexer": "ipython3",
   "version": "3.7.4"
  }
 },
 "nbformat": 4,
 "nbformat_minor": 2
}
